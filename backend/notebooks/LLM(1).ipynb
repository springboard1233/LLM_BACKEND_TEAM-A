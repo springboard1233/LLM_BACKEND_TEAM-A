{
 "cells": [
  {
   "cell_type": "code",
   "execution_count": 1,
   "id": "8d989b61",
   "metadata": {},
   "outputs": [],
   "source": [
    "import pandas as pd\n"
   ]
  },
  {
   "cell_type": "code",
   "execution_count": 2,
   "id": "ad66df1d",
   "metadata": {},
   "outputs": [
    {
     "data": {
      "text/html": [
       "<div>\n",
       "<style scoped>\n",
       "    .dataframe tbody tr th:only-of-type {\n",
       "        vertical-align: middle;\n",
       "    }\n",
       "\n",
       "    .dataframe tbody tr th {\n",
       "        vertical-align: top;\n",
       "    }\n",
       "\n",
       "    .dataframe thead th {\n",
       "        text-align: right;\n",
       "    }\n",
       "</style>\n",
       "<table border=\"1\" class=\"dataframe\">\n",
       "  <thead>\n",
       "    <tr style=\"text-align: right;\">\n",
       "      <th></th>\n",
       "      <th>transaction_id</th>\n",
       "      <th>customer_id</th>\n",
       "      <th>kyc_verified</th>\n",
       "      <th>account_age_days</th>\n",
       "      <th>transaction_amount</th>\n",
       "      <th>channel</th>\n",
       "      <th>timestamp</th>\n",
       "      <th>is_fraud</th>\n",
       "    </tr>\n",
       "  </thead>\n",
       "  <tbody>\n",
       "    <tr>\n",
       "      <th>0</th>\n",
       "      <td>TXN_200000</td>\n",
       "      <td>CUST_799</td>\n",
       "      <td>Yes</td>\n",
       "      <td>1050</td>\n",
       "      <td>256369</td>\n",
       "      <td>Mobile</td>\n",
       "      <td>2025-08-12 02:10:24</td>\n",
       "      <td>0</td>\n",
       "    </tr>\n",
       "    <tr>\n",
       "      <th>1</th>\n",
       "      <td>TXN_200001</td>\n",
       "      <td>CUST_484</td>\n",
       "      <td>Yes</td>\n",
       "      <td>295</td>\n",
       "      <td>6581</td>\n",
       "      <td>Mobile</td>\n",
       "      <td>2025-08-25 01:14:31</td>\n",
       "      <td>0</td>\n",
       "    </tr>\n",
       "    <tr>\n",
       "      <th>2</th>\n",
       "      <td>TXN_200002</td>\n",
       "      <td>CUST_791</td>\n",
       "      <td>Yes</td>\n",
       "      <td>2083</td>\n",
       "      <td>4492</td>\n",
       "      <td>Mobile</td>\n",
       "      <td>2025-08-17 12:12:40</td>\n",
       "      <td>0</td>\n",
       "    </tr>\n",
       "    <tr>\n",
       "      <th>3</th>\n",
       "      <td>TXN_200003</td>\n",
       "      <td>CUST_664</td>\n",
       "      <td>Yes</td>\n",
       "      <td>2789</td>\n",
       "      <td>275413</td>\n",
       "      <td>POS</td>\n",
       "      <td>2025-08-07 06:23:54</td>\n",
       "      <td>0</td>\n",
       "    </tr>\n",
       "    <tr>\n",
       "      <th>4</th>\n",
       "      <td>TXN_200004</td>\n",
       "      <td>CUST_157</td>\n",
       "      <td>Yes</td>\n",
       "      <td>694</td>\n",
       "      <td>98098</td>\n",
       "      <td>POS</td>\n",
       "      <td>2025-08-20 21:55:54</td>\n",
       "      <td>0</td>\n",
       "    </tr>\n",
       "    <tr>\n",
       "      <th>...</th>\n",
       "      <td>...</td>\n",
       "      <td>...</td>\n",
       "      <td>...</td>\n",
       "      <td>...</td>\n",
       "      <td>...</td>\n",
       "      <td>...</td>\n",
       "      <td>...</td>\n",
       "      <td>...</td>\n",
       "    </tr>\n",
       "    <tr>\n",
       "      <th>4995</th>\n",
       "      <td>TXN_204995</td>\n",
       "      <td>CUST_524</td>\n",
       "      <td>Yes</td>\n",
       "      <td>63</td>\n",
       "      <td>5308</td>\n",
       "      <td>ATM</td>\n",
       "      <td>2025-08-01 23:36:52</td>\n",
       "      <td>0</td>\n",
       "    </tr>\n",
       "    <tr>\n",
       "      <th>4996</th>\n",
       "      <td>TXN_204996</td>\n",
       "      <td>CUST_776</td>\n",
       "      <td>Yes</td>\n",
       "      <td>542</td>\n",
       "      <td>22337</td>\n",
       "      <td>POS</td>\n",
       "      <td>2025-08-17 00:14:10</td>\n",
       "      <td>0</td>\n",
       "    </tr>\n",
       "    <tr>\n",
       "      <th>4997</th>\n",
       "      <td>TXN_204997</td>\n",
       "      <td>CUST_347</td>\n",
       "      <td>Yes</td>\n",
       "      <td>483</td>\n",
       "      <td>7547</td>\n",
       "      <td>Mobile</td>\n",
       "      <td>2025-08-25 12:58:46</td>\n",
       "      <td>0</td>\n",
       "    </tr>\n",
       "    <tr>\n",
       "      <th>4998</th>\n",
       "      <td>TXN_204998</td>\n",
       "      <td>CUST_452</td>\n",
       "      <td>Yes</td>\n",
       "      <td>2846</td>\n",
       "      <td>7803</td>\n",
       "      <td>Mobile</td>\n",
       "      <td>2025-08-10 10:20:19</td>\n",
       "      <td>0</td>\n",
       "    </tr>\n",
       "    <tr>\n",
       "      <th>4999</th>\n",
       "      <td>TXN_204999</td>\n",
       "      <td>CUST_641</td>\n",
       "      <td>No</td>\n",
       "      <td>2769</td>\n",
       "      <td>4028</td>\n",
       "      <td>Mobile</td>\n",
       "      <td>2025-08-06 09:18:59</td>\n",
       "      <td>0</td>\n",
       "    </tr>\n",
       "  </tbody>\n",
       "</table>\n",
       "<p>5000 rows × 8 columns</p>\n",
       "</div>"
      ],
      "text/plain": [
       "     transaction_id customer_id kyc_verified  account_age_days  \\\n",
       "0        TXN_200000    CUST_799          Yes              1050   \n",
       "1        TXN_200001    CUST_484          Yes               295   \n",
       "2        TXN_200002    CUST_791          Yes              2083   \n",
       "3        TXN_200003    CUST_664          Yes              2789   \n",
       "4        TXN_200004    CUST_157          Yes               694   \n",
       "...             ...         ...          ...               ...   \n",
       "4995     TXN_204995    CUST_524          Yes                63   \n",
       "4996     TXN_204996    CUST_776          Yes               542   \n",
       "4997     TXN_204997    CUST_347          Yes               483   \n",
       "4998     TXN_204998    CUST_452          Yes              2846   \n",
       "4999     TXN_204999    CUST_641           No              2769   \n",
       "\n",
       "      transaction_amount channel            timestamp  is_fraud  \n",
       "0                 256369  Mobile  2025-08-12 02:10:24         0  \n",
       "1                   6581  Mobile  2025-08-25 01:14:31         0  \n",
       "2                   4492  Mobile  2025-08-17 12:12:40         0  \n",
       "3                 275413     POS  2025-08-07 06:23:54         0  \n",
       "4                  98098     POS  2025-08-20 21:55:54         0  \n",
       "...                  ...     ...                  ...       ...  \n",
       "4995                5308     ATM  2025-08-01 23:36:52         0  \n",
       "4996               22337     POS  2025-08-17 00:14:10         0  \n",
       "4997                7547  Mobile  2025-08-25 12:58:46         0  \n",
       "4998                7803  Mobile  2025-08-10 10:20:19         0  \n",
       "4999                4028  Mobile  2025-08-06 09:18:59         0  \n",
       "\n",
       "[5000 rows x 8 columns]"
      ]
     },
     "execution_count": 2,
     "metadata": {},
     "output_type": "execute_result"
    }
   ],
   "source": [
    "#LOAD RAW DATA\n",
    "\n",
    "df= pd.read_csv(\"C:\\\\Users\\\\bharath\\\\Downloads\\\\fraud_detection_dataset_LLM.csv\")\n",
    "df"
   ]
  },
  {
   "cell_type": "code",
   "execution_count": 3,
   "id": "6e30131b",
   "metadata": {},
   "outputs": [
    {
     "name": "stdout",
     "output_type": "stream",
     "text": [
      "\n",
      "Missing Values Before Handling:\n",
      "transaction_id        0\n",
      "customer_id           0\n",
      "kyc_verified          0\n",
      "account_age_days      0\n",
      "transaction_amount    0\n",
      "channel               0\n",
      "timestamp             0\n",
      "is_fraud              0\n",
      "dtype: int64\n"
     ]
    }
   ],
   "source": [
    "#HANDLE MISSING VALUES\n",
    "print(\"\\nMissing Values Before Handling:\")\n",
    "print(df.isnull().sum())"
   ]
  },
  {
   "cell_type": "code",
   "execution_count": 4,
   "id": "5ff22774",
   "metadata": {},
   "outputs": [],
   "source": [
    "# Fill missing KYC values with \"No\"\n",
    "df.fillna({\"kyc_verified\": \"No\"}, inplace=True)\n",
    "\n",
    "# Drop rows where transaction_amount is missing\n",
    "df.dropna(subset=[\"transaction_amount\"], inplace=True)"
   ]
  },
  {
   "cell_type": "code",
   "execution_count": 5,
   "id": "2361b77e",
   "metadata": {},
   "outputs": [
    {
     "name": "stdout",
     "output_type": "stream",
     "text": [
      "\n",
      "Missing Values After Handling:\n",
      "transaction_id        0\n",
      "customer_id           0\n",
      "kyc_verified          0\n",
      "account_age_days      0\n",
      "transaction_amount    0\n",
      "channel               0\n",
      "timestamp             0\n",
      "is_fraud              0\n",
      "dtype: int64\n"
     ]
    }
   ],
   "source": [
    "print(\"\\nMissing Values After Handling:\")\n",
    "print(df.isnull().sum())"
   ]
  },
  {
   "cell_type": "code",
   "execution_count": 6,
   "id": "7d854741",
   "metadata": {},
   "outputs": [],
   "source": [
    "#Remove Duplicates\n",
    "df.drop_duplicates(subset=\"transaction_id\", inplace=True)\n"
   ]
  },
  {
   "cell_type": "code",
   "execution_count": 7,
   "id": "8b9270f5",
   "metadata": {},
   "outputs": [],
   "source": [
    "#Standardize Columns\n",
    "df[\"timestamp\"] = pd.to_datetime(df[\"timestamp\"])\n",
    "df[\"channel\"] = df[\"channel\"].str.title()\n",
    "df[\"transaction_amount\"] = df[\"transaction_amount\"].astype(float)"
   ]
  },
  {
   "cell_type": "code",
   "execution_count": 8,
   "id": "f172a3f8",
   "metadata": {},
   "outputs": [],
   "source": [
    "#Feature Engineering\n",
    "df[\"hour\"] = df[\"timestamp\"].dt.hour\n",
    "df[\"day\"] = df[\"timestamp\"].dt.day\n",
    "df[\"month\"] = df[\"timestamp\"].dt.month\n",
    "df[\"weekday\"] = df[\"timestamp\"].dt.weekday"
   ]
  },
  {
   "cell_type": "code",
   "execution_count": 9,
   "id": "330c8f13",
   "metadata": {},
   "outputs": [],
   "source": [
    "# Create binary feature for high value transactions\n",
    "df[\"is_high_value\"] = (df[\"transaction_amount\"] > 50000).astype(int)\n"
   ]
  },
  {
   "cell_type": "code",
   "execution_count": 10,
   "id": "8d595740",
   "metadata": {},
   "outputs": [],
   "source": [
    "#Save Processed Data\n",
    "output_path = \"C:\\\\Users\\\\bharath\\\\Downloads\\\\transactions_processed.csv\"\n",
    "df.to_csv(output_path, index=False)"
   ]
  },
  {
   "cell_type": "code",
   "execution_count": 11,
   "id": "31eb6e30",
   "metadata": {},
   "outputs": [
    {
     "name": "stdout",
     "output_type": "stream",
     "text": [
      "\n",
      "✅ Data cleaning & preprocessing complete. File saved at: C:\\Users\\bharath\\Downloads\\transactions_processed.csv\n"
     ]
    }
   ],
   "source": [
    "print(f\"\\n✅ Data cleaning & preprocessing complete. File saved at: {output_path}\")"
   ]
  },
  {
   "cell_type": "code",
   "execution_count": null,
   "id": "c71a0b51",
   "metadata": {},
   "outputs": [],
   "source": []
  },
  {
   "cell_type": "code",
   "execution_count": 12,
   "id": "eb4fbf8b",
   "metadata": {},
   "outputs": [],
   "source": [
    "#EDA\n",
    "import matplotlib.pyplot as plt\n",
    "import seaborn as sns"
   ]
  },
  {
   "cell_type": "code",
   "execution_count": 13,
   "id": "5b383453",
   "metadata": {},
   "outputs": [
    {
     "data": {
      "image/png": "[encoded data removed]",
      "text/plain": [
       "<Figure size 432x288 with 1 Axes>"
      ]
     },
     "metadata": {},
     "output_type": "display_data"
    }
   ],
   "source": [
    "#Fraud % vs Legit %\n",
    "fraud_counts = df[\"is_fraud\"].value_counts(normalize=True) * 100\n",
    "plt.pie(fraud_counts, labels=[\"Legit (0)\", \"Fraud (1)\"], autopct=\"%.2f%%\", startangle=90, colors=[\"green\",\"red\"])\n",
    "plt.title(\"Fraud % vs Legit %\")\n",
    "plt.savefig(\"C:\\\\Users\\\\bharath\\\\Desktop\\\\LLM\\\\backend\\\\EDA\\\\Fraud_vs_Legit.png\")\n",
    "plt.show()"
   ]
  },
  {
   "cell_type": "code",
   "execution_count": 14,
   "id": "ccd8cc70",
   "metadata": {},
   "outputs": [
    {
     "data": {
      "image/png": "[encoded data removed]",
      "text/plain": [
       "<Figure size 432x288 with 1 Axes>"
      ]
     },
     "metadata": {
      "needs_background": "light"
     },
     "output_type": "display_data"
    }
   ],
   "source": [
    "# Avg Transaction Amount: Fraud vs Non-Fraud\n",
    "sns.boxplot(x=\"is_fraud\", y=\"transaction_amount\", data=df, palette=\"Set2\")\n",
    "plt.title(\"Transaction Amounts: Fraud vs Non-Fraud\")\n",
    "plt.xlabel(\"Is Fraud (0 = Legit, 1 = Fraud)\")\n",
    "plt.ylabel(\"Transaction Amount\")\n",
    "plt.savefig(\"C:\\\\Users\\\\bharath\\\\Desktop\\\\LLM\\\\backend\\\\EDA\\\\Avg_Transaction_Amount.png\")\n",
    "plt.show()"
   ]
  },
  {
   "cell_type": "code",
   "execution_count": 15,
   "id": "2afe085e",
   "metadata": {},
   "outputs": [
    {
     "data": {
      "image/png": "[encoded data removed]",
      "text/plain": [
       "<Figure size 432x288 with 1 Axes>"
      ]
     },
     "metadata": {
      "needs_background": "light"
     },
     "output_type": "display_data"
    }
   ],
   "source": [
    "# Transactions by Hour of Day\n",
    "sns.countplot(x=\"hour\", hue=\"is_fraud\", data=df, palette=\"Set1\")\n",
    "plt.title(\"Transactions by Hour (Fraud vs Legit)\")\n",
    "plt.xlabel(\"Hour of Day\")\n",
    "plt.ylabel(\"Count\")\n",
    "plt.legend(title=\"Fraud\")\n",
    "plt.savefig(\"C:\\\\Users\\\\bharath\\\\Desktop\\\\LLM\\\\backend\\\\EDA\\\\Transactions_by_hour.png\")\n",
    "plt.show()\n"
   ]
  },
  {
   "cell_type": "code",
   "execution_count": 16,
   "id": "155b0f99",
   "metadata": {},
   "outputs": [
    {
     "data": {
      "image/png": "[encoded data removed]",
      "text/plain": [
       "<Figure size 432x288 with 1 Axes>"
      ]
     },
     "metadata": {
      "needs_background": "light"
     },
     "output_type": "display_data"
    }
   ],
   "source": [
    "#Transactions by Channel\n",
    "sns.countplot(x=\"channel\", hue=\"is_fraud\", data=df, palette=\"Set2\")\n",
    "plt.title(\"Transactions by Channel (Fraud vs Legit)\")\n",
    "plt.xlabel(\"Channel\")\n",
    "plt.ylabel(\"Count\")\n",
    "plt.legend(title=\"Fraud\")\n",
    "plt.savefig(\"C:\\\\Users\\\\bharath\\\\Desktop\\\\LLM\\\\backend\\\\EDA\\\\Transactions_by_channel.png\")\n",
    "plt.show()"
   ]
  },
  {
   "cell_type": "code",
   "execution_count": 17,
   "id": "50e9d5e3",
   "metadata": {},
   "outputs": [
    {
     "data": {
      "image/png": "[encoded data removed]",
      "text/plain": [
       "<Figure size 432x288 with 1 Axes>"
      ]
     },
     "metadata": {
      "needs_background": "light"
     },
     "output_type": "display_data"
    }
   ],
   "source": [
    "#Fraud vs Non-Fraud Distribution (countplot)\n",
    "sns.countplot(x=\"is_fraud\", data=df, palette=\"Set1\")\n",
    "plt.title(\"Fraud vs Non-Fraud Transactions\")\n",
    "plt.xlabel(\"Is Fraud (0 = Legit, 1 = Fraud)\")\n",
    "plt.ylabel(\"Count\")\n",
    "plt.savefig(\"C:\\\\Users\\\\bharath\\\\Desktop\\\\LLM\\\\backend\\\\EDA\\\\Fraud_vs_Non-Fraud_distribution.png\")\n",
    "plt.show()"
   ]
  },
  {
   "cell_type": "code",
   "execution_count": 18,
   "id": "9b59906d",
   "metadata": {},
   "outputs": [
    {
     "data": {
      "image/png": "[encoded data removed]",
      "text/plain": [
       "<Figure size 432x288 with 1 Axes>"
      ]
     },
     "metadata": {
      "needs_background": "light"
     },
     "output_type": "display_data"
    }
   ],
   "source": [
    "#Transaction Amount Distribution (histogram)\n",
    "plt.hist(df[\"transaction_amount\"], bins=50, color=\"blue\", alpha=0.7)\n",
    "plt.title(\"Transaction Amount Distribution\")\n",
    "plt.xlabel(\"Amount\")\n",
    "plt.ylabel(\"Frequency\")\n",
    "plt.savefig(\"C:\\\\Users\\\\bharath\\\\Desktop\\\\LLM\\\\backend\\\\EDA\\\\Transaction_Amount_Distribution.png\")\n",
    "plt.show()"
   ]
  },
  {
   "cell_type": "code",
   "execution_count": 19,
   "id": "6d371b28",
   "metadata": {},
   "outputs": [
    {
     "data": {
      "image/png": "[encoded data removed]",
      "text/plain": [
       "<Figure size 1008x864 with 6 Axes>"
      ]
     },
     "metadata": {
      "needs_background": "light"
     },
     "output_type": "display_data"
    }
   ],
   "source": [
    "#SINGLE SUMMARY DASHBOARD PLOT\n",
    "fig, axes = plt.subplots(3, 2, figsize=(14, 12))\n",
    "fig.suptitle(\"Fraud Detection EDA Dashboard\", fontsize=16, fontweight=\"bold\")\n",
    "\n",
    "# 1. Fraud % vs Legit % (Pie)\n",
    "fraud_counts = df[\"is_fraud\"].value_counts(normalize=True) * 100\n",
    "axes[0,0].pie(fraud_counts, labels=[\"Legit (0)\", \"Fraud (1)\"],\n",
    "              autopct=\"%.2f%%\", startangle=90, colors=[\"green\",\"red\"])\n",
    "axes[0,0].set_title(\"Fraud % vs Legit %\")\n",
    "\n",
    "# 2. Fraud vs Non-Fraud Distribution (Bar)\n",
    "sns.countplot(x=\"is_fraud\", data=df, palette=\"Set1\", ax=axes[0,1])\n",
    "axes[0,1].set_title(\"Fraud vs Non-Fraud Count\")\n",
    "axes[0,1].set_xlabel(\"Is Fraud (0 = Legit, 1 = Fraud)\")\n",
    "axes[0,1].set_ylabel(\"Count\")\n",
    "\n",
    "# 3. Transaction Amount Distribution (Histogram)\n",
    "axes[1,0].hist(df[\"transaction_amount\"], bins=50, color=\"blue\", alpha=0.7)\n",
    "axes[1,0].set_title(\"Transaction Amount Distribution\")\n",
    "axes[1,0].set_xlabel(\"Amount\")\n",
    "axes[1,0].set_ylabel(\"Frequency\")\n",
    "\n",
    "# 4. Avg Transaction Amount (Boxplot Fraud vs Legit)\n",
    "sns.boxplot(x=\"is_fraud\", y=\"transaction_amount\", data=df, palette=\"Set2\", ax=axes[1,1])\n",
    "axes[1,1].set_title(\"Transaction Amounts: Fraud vs Legit\")\n",
    "axes[1,1].set_xlabel(\"Is Fraud\")\n",
    "axes[1,1].set_ylabel(\"Transaction Amount\")\n",
    "\n",
    "# 5. Transactions by Hour (Fraud vs Legit)\n",
    "sns.countplot(x=\"hour\", hue=\"is_fraud\", data=df, palette=\"Set1\", ax=axes[2,0])\n",
    "axes[2,0].set_title(\"Transactions by Hour\")\n",
    "axes[2,0].set_xlabel(\"Hour of Day\")\n",
    "axes[2,0].set_ylabel(\"Count\")\n",
    "\n",
    "# 6. Transactions by Channel (Fraud vs Legit)\n",
    "sns.countplot(x=\"channel\", hue=\"is_fraud\", data=df, palette=\"Set2\", ax=axes[2,1])\n",
    "axes[2,1].set_title(\"Transactions by Channel\")\n",
    "axes[2,1].set_xlabel(\"Channel\")\n",
    "axes[2,1].set_ylabel(\"Count\")\n",
    "\n",
    "plt.tight_layout(rect=[0, 0, 1, 0.97])  # leave space for main title\n",
    "plt.savefig(\"C:\\\\Users\\\\bharath\\\\Desktop\\\\LLM\\\\backend\\\\EDA\\\\SINGLE_SUMMARY_DASHBOARD PLOT.png\")\n",
    "\n",
    "plt.show()"
   ]
  },
  {
   "cell_type": "code",
   "execution_count": 20,
   "id": "d91b313a",
   "metadata": {},
   "outputs": [
    {
     "name": "stdout",
     "output_type": "stream",
     "text": [
      "Train Shape: (4000, 13)\n",
      "Test Shape: (1000, 13)\n"
     ]
    }
   ],
   "source": [
    "# Train-Test Split\n",
    "from sklearn.model_selection import train_test_split\n",
    "\n",
    "# Stratified split to maintain fraud ratio\n",
    "train, test = train_test_split(\n",
    "    df,\n",
    "    test_size=0.2,\n",
    "    stratify=df[\"is_fraud\"],\n",
    "    random_state=42\n",
    ")\n",
    "\n",
    "print(\"Train Shape:\", train.shape)\n",
    "print(\"Test Shape:\", test.shape)\n",
    "\n",
    "# Save train and test sets\n",
    "train.to_csv(\"C:\\\\Users\\\\bharath\\\\Downloads\\\\train.csv\", index=False)\n",
    "test.to_csv(\"C:\\\\Users\\\\bharath\\\\Downloads\\\\test.csv\", index=False)\n"
   ]
  },
  {
   "cell_type": "code",
   "execution_count": 21,
   "id": "03fb100c",
   "metadata": {},
   "outputs": [],
   "source": [
    "#LABEL TRANSACTION\n",
    "# Make sure it's binary (0 = Legit, 1 = Fraud)\n",
    "df[\"is_fraud\"] = df[\"is_fraud\"].astype(int)\n",
    "\n",
    "# Map into human-readable labels if needed\n",
    "df[\"label\"] = df[\"is_fraud\"].map({0: \"Legitimate\", 1: \"Fraudulent\"})"
   ]
  },
  {
   "cell_type": "code",
   "execution_count": 22,
   "id": "48f2bc84",
   "metadata": {},
   "outputs": [
    {
     "name": "stdout",
     "output_type": "stream",
     "text": [
      "0    4568\n",
      "1     432\n",
      "Name: is_fraud, dtype: int64\n",
      "Legitimate    91.36\n",
      "Fraudulent     8.64\n",
      "Name: label, dtype: float64\n"
     ]
    }
   ],
   "source": [
    "print(df[\"is_fraud\"].value_counts())\n",
    "print(df[\"label\"].value_counts(normalize=True) * 100)\n"
   ]
  },
  {
   "cell_type": "code",
   "execution_count": 23,
   "id": "f3839d94",
   "metadata": {},
   "outputs": [
    {
     "name": "stdout",
     "output_type": "stream",
     "text": [
      "Requirement already satisfied: mysql-connector-python in c:\\users\\bharath\\anaconda3\\lib\\site-packages (9.4.0)\n",
      "Note: you may need to restart the kernel to use updated packages.\n"
     ]
    }
   ],
   "source": [
    "pip install mysql-connector-python"
   ]
  },
  {
   "cell_type": "code",
   "execution_count": null,
   "id": "b488373f",
   "metadata": {},
   "outputs": [],
   "source": []
  },
  {
   "cell_type": "code",
   "execution_count": 24,
   "id": "678d336d",
   "metadata": {},
   "outputs": [
    {
     "name": "stdout",
     "output_type": "stream",
     "text": [
      "Requirement already satisfied: pymysql in c:\\users\\bharath\\anaconda3\\lib\\site-packages (1.1.2)\n",
      "Requirement already satisfied: sqlalchemy in c:\\users\\bharath\\anaconda3\\lib\\site-packages (1.4.32)\n",
      "Requirement already satisfied: greenlet!=0.4.17 in c:\\users\\bharath\\anaconda3\\lib\\site-packages (from sqlalchemy) (1.1.1)\n",
      "Note: you may need to restart the kernel to use updated packages.\n"
     ]
    }
   ],
   "source": [
    "pip install pymysql sqlalchemy"
   ]
  },
  {
   "cell_type": "code",
   "execution_count": 25,
   "id": "9fa2d480",
   "metadata": {},
   "outputs": [
    {
     "name": "stdout",
     "output_type": "stream",
     "text": [
      "Processed data stored in MySQL -> fraud_detection.transactions\n"
     ]
    }
   ],
   "source": [
    "import pandas as pd\n",
    "from sqlalchemy import create_engine\n",
    "\n",
    "#Load the processed dataset\n",
    "df= pd.read_csv( \"C:\\\\Users\\\\bharath\\\\Downloads\\\\transactions_processed.csv\")\n",
    "\n",
    "#Replace with your MySQL credentials\n",
    "user=\"root\"\n",
    "password=\"subhash\"\n",
    "host=\"127.0.0.1\"\n",
    "port=8080\n",
    "database=\"fraud_detection\"\n",
    "\n",
    "#Create connection engine\n",
    "engine=create_engine(f\"mysql+pymysql://{user}:{password}@{host}:{port}/{database}\")\n",
    "\n",
    "#Save dataframe to MySQL\n",
    "df.to_sql(\"transactions\", con=engine, if_exists=\"replace\", index=False)\n",
    "\n",
    "print(\"Processed data stored in MySQL -> fraud_detection.transactions\")"
   ]
  },
  {
   "cell_type": "code",
   "execution_count": 26,
   "id": "4087ea9d",
   "metadata": {},
   "outputs": [
    {
     "name": "stdout",
     "output_type": "stream",
     "text": [
      "  channel  total  frauds\n",
      "0  Mobile   1992   191.0\n",
      "1     Pos    784    58.0\n",
      "2     Atm    490    32.0\n",
      "3     Web   1734   151.0\n"
     ]
    }
   ],
   "source": [
    "import pandas as pd\n",
    "\n",
    "query = \"SELECT channel, COUNT(*) AS total, SUM(is_fraud) AS frauds FROM transactions GROUP BY channel;\"\n",
    "df_sql = pd.read_sql(query, con=engine)\n",
    "print(df_sql)"
   ]
  },
  {
   "cell_type": "code",
   "execution_count": null,
   "id": "f6bf1197",
   "metadata": {},
   "outputs": [],
   "source": []
  },
  {
   "cell_type": "code",
   "execution_count": null,
   "id": "35c5a85c",
   "metadata": {},
   "outputs": [],
   "source": [
    "\n"
   ]
  },
  {
   "cell_type": "code",
   "execution_count": null,
   "id": "b9576ead",
   "metadata": {},
   "outputs": [],
   "source": []
  },
  {
   "cell_type": "code",
   "execution_count": null,
   "id": "7bf3de2d",
   "metadata": {},
   "outputs": [],
   "source": []
  },
  {
   "cell_type": "code",
   "execution_count": null,
   "id": "63a6c760",
   "metadata": {},
   "outputs": [],
   "source": []
  }
 ],
 "metadata": {
  "kernelspec": {
   "display_name": "Python 3 (ipykernel)",
   "language": "python",
   "name": "python3"
  },
  "language_info": {
   "codemirror_mode": {
    "name": "ipython",
    "version": 3
   },
   "file_extension": ".py",
   "mimetype": "text/x-python",
   "name": "python",
   "nbconvert_exporter": "python",
   "pygments_lexer": "ipython3",
   "version": "3.9.12"
  }
 },
 "nbformat": 4,
 "nbformat_minor": 5
}
